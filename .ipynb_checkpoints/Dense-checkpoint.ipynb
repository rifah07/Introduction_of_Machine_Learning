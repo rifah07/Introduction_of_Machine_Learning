{
 "cells": [
  {
   "cell_type": "markdown",
   "id": "8e350cdc-e949-4b93-b22c-73ec07a90781",
   "metadata": {},
   "source": [
    "Dense layer is a fundamental building block of neural networks in Keras, a popular deep learning library."
   ]
  },
  {
   "cell_type": "markdown",
   "id": "061eb735-c772-4321-a8d7-bf7fa51d49da",
   "metadata": {},
   "source": [
    "Dense Layer: A Dense layer is also known as a fully connected layer. It is a layer where each neuron is connected to every neuron in the previous layer. This means that each input node is connected to each output node by a weight."
   ]
  },
  {
   "cell_type": "markdown",
   "id": "fa496006-ced7-4f23-a2c4-77066fec108f",
   "metadata": {},
   "source": [
    "Here's a quick breakdown of what it does:\n",
    "\n",
    "\n",
    "Weights and Biases: Each connection has an associated weight, which gets adjusted during training to minimize the error of the network. Bias terms are also included to provide additional flexibility in learning.\n",
    "\n",
    "Activation Functions: The Dense layer also usually applies an activation function to the weighted sum of the inputs to introduce non-linearity, which helps the network learn more complex patterns. Common activation functions include ReLU, sigmoid, and softmax.\n",
    "\n",
    "Output Shape: The number of neurons in the Dense layer determines the output shape of the layer."
   ]
  },
  {
   "cell_type": "code",
   "execution_count": 1,
   "id": "3655026d-6635-4be5-93a9-bee9be5ef214",
   "metadata": {},
   "outputs": [
    {
     "name": "stderr",
     "output_type": "stream",
     "text": [
      "2024-12-14 19:02:23.708616: I tensorflow/core/util/port.cc:153] oneDNN custom operations are on. You may see slightly different numerical results due to floating-point round-off errors from different computation orders. To turn them off, set the environment variable `TF_ENABLE_ONEDNN_OPTS=0`.\n",
      "2024-12-14 19:02:23.717686: I external/local_xla/xla/tsl/cuda/cudart_stub.cc:32] Could not find cuda drivers on your machine, GPU will not be used.\n",
      "2024-12-14 19:02:23.820222: I external/local_xla/xla/tsl/cuda/cudart_stub.cc:32] Could not find cuda drivers on your machine, GPU will not be used.\n",
      "2024-12-14 19:02:23.912909: E external/local_xla/xla/stream_executor/cuda/cuda_fft.cc:477] Unable to register cuFFT factory: Attempting to register factory for plugin cuFFT when one has already been registered\n",
      "WARNING: All log messages before absl::InitializeLog() is called are written to STDERR\n",
      "E0000 00:00:1734181343.988625   28976 cuda_dnn.cc:8310] Unable to register cuDNN factory: Attempting to register factory for plugin cuDNN when one has already been registered\n",
      "E0000 00:00:1734181344.015106   28976 cuda_blas.cc:1418] Unable to register cuBLAS factory: Attempting to register factory for plugin cuBLAS when one has already been registered\n",
      "2024-12-14 19:02:24.205703: I tensorflow/core/platform/cpu_feature_guard.cc:210] This TensorFlow binary is optimized to use available CPU instructions in performance-critical operations.\n",
      "To enable the following instructions: AVX2 AVX512F AVX512_VNNI FMA, in other operations, rebuild TensorFlow with the appropriate compiler flags.\n",
      "/home/rifah/myenv/lib/python3.10/site-packages/keras/src/layers/core/dense.py:87: UserWarning: Do not pass an `input_shape`/`input_dim` argument to a layer. When using Sequential models, prefer using an `Input(shape)` object as the first layer in the model instead.\n",
      "  super().__init__(activity_regularizer=activity_regularizer, **kwargs)\n",
      "2024-12-14 19:02:26.659412: E external/local_xla/xla/stream_executor/cuda/cuda_driver.cc:152] failed call to cuInit: INTERNAL: CUDA error: Failed call to cuInit: UNKNOWN ERROR (303)\n"
     ]
    }
   ],
   "source": [
    "from keras.models import Sequential\n",
    "from keras.layers import Dense\n",
    "\n",
    "model = Sequential()\n",
    "model.add(Dense(units=64, activation='relu', input_dim=100))\n",
    "model.add(Dense(units=10, activation='softmax'))"
   ]
  },
  {
   "cell_type": "markdown",
   "id": "16c3d82a-3882-423f-8c11-11818e664739",
   "metadata": {},
   "source": [
    "In this example:\n",
    "\n",
    "The first Dense layer has 64 units (neurons) and uses the ReLU activation function. It takes input with a dimension of 100.\n",
    "\n",
    "The second Dense layer has 10 units and uses the softmax activation function, typically used for multi-class classification problems."
   ]
  }
 ],
 "metadata": {
  "kernelspec": {
   "display_name": "Python 3 (ipykernel)",
   "language": "python",
   "name": "python3"
  },
  "language_info": {
   "codemirror_mode": {
    "name": "ipython",
    "version": 3
   },
   "file_extension": ".py",
   "mimetype": "text/x-python",
   "name": "python",
   "nbconvert_exporter": "python",
   "pygments_lexer": "ipython3",
   "version": "3.10.12"
  }
 },
 "nbformat": 4,
 "nbformat_minor": 5
}
