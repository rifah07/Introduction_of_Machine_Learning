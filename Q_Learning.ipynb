{
 "cells": [
  {
   "cell_type": "markdown",
   "id": "eddfc6b2-7dcf-4418-907e-8f644a954e58",
   "metadata": {},
   "source": [
    "Step 1: Define the Environment"
   ]
  },
  {
   "cell_type": "code",
   "execution_count": 1,
   "id": "e860b261-1298-411e-9440-9839af65ad7b",
   "metadata": {},
   "outputs": [],
   "source": [
    "import numpy as np"
   ]
  },
  {
   "cell_type": "code",
   "execution_count": 2,
   "id": "f0e2a23f-cc3a-40b4-bf54-a487134654db",
   "metadata": {},
   "outputs": [],
   "source": [
    "# define the environment\n",
    "n_states = 16  # Number of states in the grid world\n",
    "n_actions = 4  # Number of possible actions (up, down, left, right)\n",
    "goal_state = 15  # Goal state\n",
    "\n",
    "# Initialize Q-table with zeros\n",
    "Q_table = np.zeros((n_states, n_actions))"
   ]
  },
  {
   "cell_type": "markdown",
   "id": "2f160610-36b0-44b6-8937-c7b34f404f24",
   "metadata": {},
   "source": [
    "Step 2: Set Hyperparameters"
   ]
  },
  {
   "cell_type": "code",
   "execution_count": 3,
   "id": "b77294ec-adbd-4be7-9a60-b1e3169ff6e9",
   "metadata": {},
   "outputs": [],
   "source": [
    "# define parameters\n",
    "learning_rate = 0.85\n",
    "discount_factor = 0.96\n",
    "exploration_prob = 0.2\n",
    "epochs = 1000"
   ]
  },
  {
   "cell_type": "markdown",
   "id": "c937c625-fea2-4b3e-a43d-c260d17e1112",
   "metadata": {},
   "source": [
    "Step 3: Implement the Q-Learning Algorithm"
   ]
  },
  {
   "cell_type": "code",
   "execution_count": 4,
   "id": "0ea27f31-04ed-403d-b2cc-8cd0c740f763",
   "metadata": {},
   "outputs": [],
   "source": [
    "# Q-learning algorithm\n",
    "for epoch in range(epochs):\n",
    "    current_state = np.random.randint(0, n_states)  # Start from a random state\n",
    "\n",
    "    while current_state != goal_state:\n",
    "        # Choose action with epsilon-greedy strategy\n",
    "        if np.random.rand() < exploration_prob:\n",
    "            action = np.random.randint(0, n_actions)  # Explore\n",
    "        else:\n",
    "            action = np.argmax(Q_table[current_state])  # Exploit\n",
    "\n",
    "        # Simulate the environment (move to the next state)\n",
    "        # For simplicity, move to the next state\n",
    "        next_state = (current_state + 1) % n_states\n",
    "\n",
    "        # Define a simple reward function (1 if the goal state is reached, 0 otherwise)\n",
    "        reward = 1 if next_state == goal_state else 0\n",
    "\n",
    "        # Update Q-value using the Q-learning update rule\n",
    "        Q_table[current_state, action] += learning_rate * \\\n",
    "            (reward + discount_factor *\n",
    "             np.max(Q_table[next_state]) - Q_table[current_state, action])\n",
    "\n",
    "        current_state = next_state  # Move to the next state"
   ]
  },
  {
   "cell_type": "markdown",
   "id": "6890154b-2c10-4834-b695-865167a872d0",
   "metadata": {},
   "source": [
    "Step 4: Output the Learned Q-Table"
   ]
  },
  {
   "cell_type": "code",
   "execution_count": 5,
   "id": "03b3cbbc-642e-44f3-8d3c-6387616b648e",
   "metadata": {},
   "outputs": [
    {
     "name": "stdout",
     "output_type": "stream",
     "text": [
      "Learned Q-table:\n",
      "[[0.56467331 0.56276754 0.56463043 0.56276754]\n",
      " [0.58820095 0.58820036 0.58790359 0.58820137]\n",
      " [0.61270976 0.61270976 0.61270976 0.61270976]\n",
      " [0.63823933 0.63823933 0.63823933 0.63823933]\n",
      " [0.66483264 0.66483264 0.66483263 0.66483264]\n",
      " [0.692534   0.692534   0.692534   0.692534  ]\n",
      " [0.72138958 0.72138958 0.72138958 0.72138958]\n",
      " [0.75144748 0.75144748 0.75144748 0.75144748]\n",
      " [0.78275779 0.78275779 0.78275779 0.78275779]\n",
      " [0.8153727  0.8153727  0.8153727  0.8153727 ]\n",
      " [0.84934656 0.84934656 0.84934656 0.84934656]\n",
      " [0.884736   0.884736   0.884736   0.884736  ]\n",
      " [0.9216     0.9216     0.9216     0.9216    ]\n",
      " [0.96       0.96       0.96       0.96      ]\n",
      " [1.         1.         1.         1.        ]\n",
      " [0.         0.         0.         0.        ]]\n"
     ]
    }
   ],
   "source": [
    "# After training, the Q-table represents the learned Q-values\n",
    "print(\"Learned Q-table:\")\n",
    "print(Q_table)"
   ]
  }
 ],
 "metadata": {
  "kernelspec": {
   "display_name": "Python 3 (ipykernel)",
   "language": "python",
   "name": "python3"
  },
  "language_info": {
   "codemirror_mode": {
    "name": "ipython",
    "version": 3
   },
   "file_extension": ".py",
   "mimetype": "text/x-python",
   "name": "python",
   "nbconvert_exporter": "python",
   "pygments_lexer": "ipython3",
   "version": "3.10.12"
  }
 },
 "nbformat": 4,
 "nbformat_minor": 5
}
