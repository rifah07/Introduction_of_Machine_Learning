{
 "cells": [
  {
   "cell_type": "code",
   "execution_count": null,
   "id": "e860b261-1298-411e-9440-9839af65ad7b",
   "metadata": {},
   "outputs": [],
   "source": []
  }
 ],
 "metadata": {
  "kernelspec": {
   "display_name": "",
   "name": ""
  },
  "language_info": {
   "name": ""
  }
 },
 "nbformat": 4,
 "nbformat_minor": 5
}
